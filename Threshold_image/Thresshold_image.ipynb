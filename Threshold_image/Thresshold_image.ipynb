{
 "cells": [
  {
   "cell_type": "markdown",
   "id": "fcbb97ce",
   "metadata": {},
   "source": [
    "## Import Library"
   ]
  },
  {
   "cell_type": "code",
   "execution_count": 14,
   "id": "6c460c33",
   "metadata": {},
   "outputs": [],
   "source": [
    "from tqdm import tqdm"
   ]
  },
  {
   "cell_type": "markdown",
   "id": "f152f7c9",
   "metadata": {},
   "source": [
    "## Image read and append"
   ]
  },
  {
   "cell_type": "code",
   "execution_count": null,
   "id": "5111f5c4",
   "metadata": {},
   "outputs": [],
   "source": [
    "with open(\"sumit.pgm\") as image:   ##Image_read\n",
    "    image_set = image.readlines()\n",
    "    \n",
    "thresshold_number = 130   \n",
    "a = len(image_set)\n",
    "output=[]\n",
    "\n",
    "for i,s in tqdm(enumerate(image_set)):   ## remove \\n\n",
    "    image_set[i] =  s.strip()\n",
    "for i in tqdm(range(0,a)):                 # append value in empty list\n",
    "    if(i<4): \n",
    "        output.append(image_set[i])\n",
    "    elif(int(image_set[i])<thresshold_number):\n",
    "        output.append(\"0\")\n",
    "    else:\n",
    "        output.append(\"255\")"
   ]
  },
  {
   "cell_type": "markdown",
   "id": "bea215d8",
   "metadata": {},
   "source": [
    "## Output Image"
   ]
  },
  {
   "cell_type": "code",
   "execution_count": 15,
   "id": "7d026f34",
   "metadata": {},
   "outputs": [
    {
     "name": "stderr",
     "output_type": "stream",
     "text": [
      "459700it [00:00, 1733889.51it/s]\n",
      "100%|█████████████████████████████████████████████████| 459700/459700 [00:00<00:00, 1236052.21it/s]\n",
      "100%|██████████████████████████████████████████████████| 459700/459700 [00:00<00:00, 527991.81it/s]\n"
     ]
    }
   ],
   "source": [
    "\n",
    "report = open(\"output.pgm\",\"w\")\n",
    "for i in tqdm(range(0,a)):\n",
    "    report.write(output[i])\n",
    "    report.write(\"\\n\")"
   ]
  }
 ],
 "metadata": {
  "kernelspec": {
   "display_name": "Python 3 (ipykernel)",
   "language": "python",
   "name": "python3"
  },
  "language_info": {
   "codemirror_mode": {
    "name": "ipython",
    "version": 3
   },
   "file_extension": ".py",
   "mimetype": "text/x-python",
   "name": "python",
   "nbconvert_exporter": "python",
   "pygments_lexer": "ipython3",
   "version": "3.10.7"
  }
 },
 "nbformat": 4,
 "nbformat_minor": 5
}
