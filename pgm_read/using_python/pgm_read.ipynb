{
 "cells": [
  {
   "cell_type": "markdown",
   "id": "8677b9c2",
   "metadata": {},
   "source": [
    "## Image read"
   ]
  },
  {
   "cell_type": "code",
   "execution_count": 13,
   "id": "731d4bed",
   "metadata": {},
   "outputs": [],
   "source": [
    "with open('sumit.pgm') as photo:\n",
    "  photos_set=photo.readlines()"
   ]
  },
  {
   "cell_type": "markdown",
   "id": "2f613e86",
   "metadata": {},
   "source": [
    "## Remove '\\n' in list and append"
   ]
  },
  {
   "cell_type": "code",
   "execution_count": 14,
   "id": "632c4b38",
   "metadata": {},
   "outputs": [],
   "source": [
    "\n",
    "for y,s in enumerate(photos_set):\n",
    "    photos_set[y]=s.strip()\n",
    "    output.append(photos_set[y])"
   ]
  },
  {
   "cell_type": "markdown",
   "id": "46f9d7bb",
   "metadata": {},
   "source": [
    "## Output read image"
   ]
  },
  {
   "cell_type": "code",
   "execution_count": 15,
   "id": "293f9115",
   "metadata": {},
   "outputs": [],
   "source": [
    "report=open(\"output.pgm\",'w')\n",
    "for i in range(a):\n",
    "    report.write(output[i])\n",
    "    report.write(\"\\n\")"
   ]
  }
 ],
 "metadata": {
  "kernelspec": {
   "display_name": "Python 3 (ipykernel)",
   "language": "python",
   "name": "python3"
  },
  "language_info": {
   "codemirror_mode": {
    "name": "ipython",
    "version": 3
   },
   "file_extension": ".py",
   "mimetype": "text/x-python",
   "name": "python",
   "nbconvert_exporter": "python",
   "pygments_lexer": "ipython3",
   "version": "3.10.7"
  }
 },
 "nbformat": 4,
 "nbformat_minor": 5
}
