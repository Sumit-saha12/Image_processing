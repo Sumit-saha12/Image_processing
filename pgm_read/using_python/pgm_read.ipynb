{
 "cells": [
  {
   "cell_type": "code",
   "execution_count": 71,
   "id": "731d4bed",
   "metadata": {},
   "outputs": [],
   "source": [
    "with open('sumit.pgm') as photo:\n",
    "  photos_set=photo.readlines()"
   ]
  },
  {
   "cell_type": "code",
   "execution_count": 72,
   "id": "179c03e8",
   "metadata": {},
   "outputs": [],
   "source": [
    "a=len(photos_set)\n",
    "\n",
    "output=[]\n",
    "for i in range(0,a):\n",
    "  output.append(photos_set[i])"
   ]
  },
  {
   "cell_type": "code",
   "execution_count": 73,
   "id": "632c4b38",
   "metadata": {},
   "outputs": [],
   "source": [
    "report=open(\"output.pgm\",'w')\n",
    "for y in range(0,a):\n",
    "    report.write(output[y])"
   ]
  },
  {
   "cell_type": "code",
   "execution_count": null,
   "id": "293f9115",
   "metadata": {},
   "outputs": [],
   "source": []
  }
 ],
 "metadata": {
  "kernelspec": {
   "display_name": "Python 3 (ipykernel)",
   "language": "python",
   "name": "python3"
  },
  "language_info": {
   "codemirror_mode": {
    "name": "ipython",
    "version": 3
   },
   "file_extension": ".py",
   "mimetype": "text/x-python",
   "name": "python",
   "nbconvert_exporter": "python",
   "pygments_lexer": "ipython3",
   "version": "3.10.7"
  }
 },
 "nbformat": 4,
 "nbformat_minor": 5
}
