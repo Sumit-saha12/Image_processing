{
 "cells": [
  {
   "cell_type": "markdown",
   "id": "011c8335",
   "metadata": {},
   "source": [
    "## Import libraries"
   ]
  },
  {
   "cell_type": "code",
   "execution_count": 14,
   "id": "5b9c1db0",
   "metadata": {},
   "outputs": [],
   "source": [
    "import math"
   ]
  },
  {
   "cell_type": "markdown",
   "id": "7b336317",
   "metadata": {},
   "source": [
    "## Image read"
   ]
  },
  {
   "cell_type": "code",
   "execution_count": 24,
   "id": "f4c7714e",
   "metadata": {},
   "outputs": [],
   "source": [
    "with open(\"sumit.pgm\") as image:\n",
    "    image_set=image.readlines()\n",
    "# image_set\n",
    "output=[]\n",
    "a=len(image_set)\n"
   ]
  },
  {
   "cell_type": "markdown",
   "id": "066e041b",
   "metadata": {},
   "source": [
    "## Remove \\n in array, append and log transform"
   ]
  },
  {
   "cell_type": "code",
   "execution_count": null,
   "id": "e89dde09",
   "metadata": {},
   "outputs": [],
   "source": [
    "for i,s in enumerate(image_set):\n",
    "    image_set[i]=s.strip()\n",
    "    if(i>=4):\n",
    "        output.append(str(5*(math.log(1+int(image_set[i])))))\n",
    "    else:\n",
    "        output.append(image_set[i])"
   ]
  },
  {
   "cell_type": "markdown",
   "id": "4fb53230",
   "metadata": {},
   "source": [
    "# Output image"
   ]
  },
  {
   "cell_type": "code",
   "execution_count": null,
   "id": "9c5aadd8",
   "metadata": {},
   "outputs": [],
   "source": [
    "report = open(\"output.pgm\",\"w\")\n",
    "for i in range(0,a):\n",
    "    report.write(output[i])\n",
    "    report.write('\\n')"
   ]
  }
 ],
 "metadata": {
  "kernelspec": {
   "display_name": "Python 3 (ipykernel)",
   "language": "python",
   "name": "python3"
  },
  "language_info": {
   "codemirror_mode": {
    "name": "ipython",
    "version": 3
   },
   "file_extension": ".py",
   "mimetype": "text/x-python",
   "name": "python",
   "nbconvert_exporter": "python",
   "pygments_lexer": "ipython3",
   "version": "3.10.7"
  }
 },
 "nbformat": 4,
 "nbformat_minor": 5
}
