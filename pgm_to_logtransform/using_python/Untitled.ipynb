{
 "cells": [
  {
   "cell_type": "markdown",
   "id": "011c8335",
   "metadata": {},
   "source": [
    "## Import libraries"
   ]
  },
  {
   "cell_type": "code",
   "execution_count": 2,
   "id": "5b9c1db0",
   "metadata": {},
   "outputs": [],
   "source": [
    "import math"
   ]
  },
  {
   "cell_type": "markdown",
   "id": "7b336317",
   "metadata": {},
   "source": [
    "## Image read"
   ]
  },
  {
   "cell_type": "code",
   "execution_count": 3,
   "id": "f4c7714e",
   "metadata": {},
   "outputs": [],
   "source": [
    "with open(\"sumit.pgm\") as image:\n",
    "    image_set=image.readlines()\n",
    "# image_set\n",
    "output=[]\n",
    "a=len(image_set)\n"
   ]
  },
  {
   "cell_type": "markdown",
   "id": "066e041b",
   "metadata": {},
   "source": [
    "## Remove \\n in array, append and log transform"
   ]
  },
  {
   "cell_type": "code",
   "execution_count": 4,
   "id": "b017d5e1",
   "metadata": {},
   "outputs": [],
   "source": [
    "from tqdm import tqdm"
   ]
  },
  {
   "cell_type": "code",
   "execution_count": 5,
   "id": "e89dde09",
   "metadata": {},
   "outputs": [
    {
     "name": "stderr",
     "output_type": "stream",
     "text": [
      "459700it [00:01, 430799.30it/s]\n"
     ]
    }
   ],
   "source": [
    "for i,s in tqdm(enumerate(image_set)):\n",
    "    image_set[i]=s.strip()\n",
    "    if(i>=4):\n",
    "        output.append(str(5*(math.log(1+int(image_set[i])))))\n",
    "    else:\n",
    "        output.append(image_set[i])"
   ]
  },
  {
   "cell_type": "markdown",
   "id": "4fb53230",
   "metadata": {},
   "source": [
    "# Output image"
   ]
  },
  {
   "cell_type": "code",
   "execution_count": 6,
   "id": "9c5aadd8",
   "metadata": {},
   "outputs": [
    {
     "name": "stderr",
     "output_type": "stream",
     "text": [
      "100%|██████████████████████████████████████████████████████████████████████| 459700/459700 [00:01<00:00, 428381.97it/s]\n"
     ]
    }
   ],
   "source": [
    "report = open(\"output.pgm\",\"w\")\n",
    "for i in tqdm(range(0,a)):\n",
    "    report.write(output[i])\n",
    "    report.write('\\n')"
   ]
  }
 ],
 "metadata": {
  "kernelspec": {
   "display_name": "Python 3 (ipykernel)",
   "language": "python",
   "name": "python3"
  },
  "language_info": {
   "codemirror_mode": {
    "name": "ipython",
    "version": 3
   },
   "file_extension": ".py",
   "mimetype": "text/x-python",
   "name": "python",
   "nbconvert_exporter": "python",
   "pygments_lexer": "ipython3",
   "version": "3.10.7"
  }
 },
 "nbformat": 4,
 "nbformat_minor": 5
}
