{
 "cells": [
  {
   "cell_type": "markdown",
   "id": "be519986",
   "metadata": {},
   "source": [
    "## Import Library"
   ]
  },
  {
   "cell_type": "code",
   "execution_count": 34,
   "id": "a7559e34",
   "metadata": {},
   "outputs": [],
   "source": [
    "from tqdm import tqdm"
   ]
  },
  {
   "cell_type": "markdown",
   "id": "e410bb4c",
   "metadata": {},
   "source": [
    "## Image Read"
   ]
  },
  {
   "cell_type": "code",
   "execution_count": 35,
   "id": "9c84a35d",
   "metadata": {},
   "outputs": [],
   "source": [
    "with open(\"low_contrast.pgm\") as image:\n",
    "    image_set=image.readlines()"
   ]
  },
  {
   "cell_type": "markdown",
   "id": "685f6bc1",
   "metadata": {},
   "source": [
    "## Append list, remove \\n, Contrast streching"
   ]
  },
  {
   "cell_type": "code",
   "execution_count": 36,
   "id": "d275558b",
   "metadata": {},
   "outputs": [
    {
     "name": "stderr",
     "output_type": "stream",
     "text": [
      "65540it [00:00, 1313412.86it/s]\n"
     ]
    }
   ],
   "source": [
    "output=[]\n",
    "for i,s in tqdm(enumerate(image_set)):\n",
    "    image_set[i]=s.strip()\n",
    "\n",
    "a=len(image_set)\n",
    "max_num =  max(int(image_set[i]) for i in range(4,a))\n",
    "min_num =  min(int(image_set[i]) for i in range(4,a))\n",
    "\n",
    "for i in range(0,a):\n",
    "    if(i>=4):\n",
    "        b= round(((int(image_set[i])-min_num)/(max_num-min_num))*255)\n",
    "        output.append(str(b))\n",
    "    else:\n",
    "        output.append(image_set[i])"
   ]
  },
  {
   "cell_type": "markdown",
   "id": "dc45242b",
   "metadata": {},
   "source": [
    "## Contrast streching output image"
   ]
  },
  {
   "cell_type": "code",
   "execution_count": 37,
   "id": "1232db29",
   "metadata": {},
   "outputs": [
    {
     "name": "stderr",
     "output_type": "stream",
     "text": [
      "100%|████████████████████████████████████████████████████████████████████████| 65540/65540 [00:00<00:00, 369198.26it/s]\n"
     ]
    }
   ],
   "source": [
    "report= open(\"output.pgm\",\"w\")\n",
    "for i in tqdm(range(0,a)):\n",
    "    report.write(output[i])\n",
    "    report.write(\"\\n\")"
   ]
  }
 ],
 "metadata": {
  "kernelspec": {
   "display_name": "Python 3 (ipykernel)",
   "language": "python",
   "name": "python3"
  },
  "language_info": {
   "codemirror_mode": {
    "name": "ipython",
    "version": 3
   },
   "file_extension": ".py",
   "mimetype": "text/x-python",
   "name": "python",
   "nbconvert_exporter": "python",
   "pygments_lexer": "ipython3",
   "version": "3.10.7"
  }
 },
 "nbformat": 4,
 "nbformat_minor": 5
}
