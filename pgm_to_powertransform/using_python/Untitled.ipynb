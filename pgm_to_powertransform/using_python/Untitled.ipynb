{
 "cells": [
  {
   "cell_type": "markdown",
   "id": "bd02155f",
   "metadata": {},
   "source": [
    "## Image read"
   ]
  },
  {
   "cell_type": "code",
   "execution_count": 22,
   "id": "fb67d38d",
   "metadata": {},
   "outputs": [],
   "source": [
    "with open(\"sumit.pgm\") as image:\n",
    "    image_set = image.readlines()\n",
    "# image_set\n",
    "output=[]\n",
    "a=len(image_set)"
   ]
  },
  {
   "cell_type": "markdown",
   "id": "58faa692",
   "metadata": {},
   "source": [
    "## Remove \\n,append and power transform"
   ]
  },
  {
   "cell_type": "code",
   "execution_count": 23,
   "id": "9681a090",
   "metadata": {},
   "outputs": [],
   "source": [
    "\n",
    "for i,s in enumerate(image_set):\n",
    "    image_set[i] = s.strip()\n",
    "    if(i>=4):\n",
    "        output.append(str(round(2*(int(image_set[i])**(1/2.5)))))\n",
    "    else:\n",
    "        output.append(image_set[i])"
   ]
  },
  {
   "cell_type": "markdown",
   "id": "6b4dd356",
   "metadata": {},
   "source": [
    "## Output image"
   ]
  },
  {
   "cell_type": "code",
   "execution_count": 24,
   "id": "05d4317c",
   "metadata": {},
   "outputs": [],
   "source": [
    "from tqdm import tqdm"
   ]
  },
  {
   "cell_type": "code",
   "execution_count": 25,
   "id": "fa0741e1",
   "metadata": {
    "scrolled": true
   },
   "outputs": [
    {
     "name": "stderr",
     "output_type": "stream",
     "text": [
      "100%|██████████████████████████████████████████████████████████████████████| 459700/459700 [00:00<00:00, 528971.30it/s]\n"
     ]
    }
   ],
   "source": [
    "\n",
    "report = open(\"output.pgm\",\"w\")\n",
    "for i in tqdm(range(0,a)):\n",
    "    report.write(output[i])\n",
    "    report.write(\"\\n\")"
   ]
  }
 ],
 "metadata": {
  "kernelspec": {
   "display_name": "Python 3 (ipykernel)",
   "language": "python",
   "name": "python3"
  },
  "language_info": {
   "codemirror_mode": {
    "name": "ipython",
    "version": 3
   },
   "file_extension": ".py",
   "mimetype": "text/x-python",
   "name": "python",
   "nbconvert_exporter": "python",
   "pygments_lexer": "ipython3",
   "version": "3.10.7"
  }
 },
 "nbformat": 4,
 "nbformat_minor": 5
}
