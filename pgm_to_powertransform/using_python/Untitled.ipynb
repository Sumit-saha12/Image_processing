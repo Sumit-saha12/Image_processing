{
 "cells": [
  {
   "cell_type": "markdown",
   "id": "bd02155f",
   "metadata": {},
   "source": [
    "## Image read"
   ]
  },
  {
   "cell_type": "code",
   "execution_count": null,
   "id": "fb67d38d",
   "metadata": {},
   "outputs": [],
   "source": [
    "with open(\"sumit.pgm\") as image:\n",
    "    image_set = image.readlines()\n",
    "# image_set\n",
    "output=[]\n",
    "a=len(image_set)"
   ]
  },
  {
   "cell_type": "markdown",
   "id": "58faa692",
   "metadata": {},
   "source": [
    "## Remove \\n,append and power transform"
   ]
  },
  {
   "cell_type": "code",
   "execution_count": null,
   "id": "9681a090",
   "metadata": {},
   "outputs": [],
   "source": [
    "\n",
    "for i,s in enumerate(image_set):\n",
    "    image_set[i] = s.strip()\n",
    "    if(i>=4):\n",
    "        output.append(str(2*(int(image_set[i])**(1/2.5))))\n",
    "    else:\n",
    "        output.append(image_set[i])"
   ]
  },
  {
   "cell_type": "markdown",
   "id": "6b4dd356",
   "metadata": {},
   "source": [
    "## Output image"
   ]
  },
  {
   "cell_type": "code",
   "execution_count": 18,
   "id": "fa0741e1",
   "metadata": {
    "scrolled": true
   },
   "outputs": [],
   "source": [
    "\n",
    "report = open(\"output.pgm\",\"w\")\n",
    "for i in range(0,a):\n",
    "    report.write(output[i])\n",
    "    report.write(\"\\n\")"
   ]
  }
 ],
 "metadata": {
  "kernelspec": {
   "display_name": "Python 3 (ipykernel)",
   "language": "python",
   "name": "python3"
  },
  "language_info": {
   "codemirror_mode": {
    "name": "ipython",
    "version": 3
   },
   "file_extension": ".py",
   "mimetype": "text/x-python",
   "name": "python",
   "nbconvert_exporter": "python",
   "pygments_lexer": "ipython3",
   "version": "3.10.7"
  }
 },
 "nbformat": 4,
 "nbformat_minor": 5
}
