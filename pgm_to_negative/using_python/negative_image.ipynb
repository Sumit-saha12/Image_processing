{
 "cells": [
  {
   "cell_type": "markdown",
   "id": "0d0cc9cb",
   "metadata": {},
   "source": [
    "## Image read"
   ]
  },
  {
   "cell_type": "code",
   "execution_count": null,
   "id": "ca455ac6",
   "metadata": {},
   "outputs": [],
   "source": [
    "with open('sumit.pgm') as image:\n",
    "    image_set=image.readlines()"
   ]
  },
  {
   "cell_type": "markdown",
   "id": "225aec6f",
   "metadata": {},
   "source": [
    "## Image append in list"
   ]
  },
  {
   "cell_type": "code",
   "execution_count": 68,
   "id": "e5de2290",
   "metadata": {},
   "outputs": [],
   "source": [
    "output=[]\n",
    "a=len(image_set)\n",
    "for i,s in enumerate(image_set):\n",
    "    image_set[i]=s.strip()\n",
    "    output.append(image_set[i])\n",
    "max=image_set[3]"
   ]
  },
  {
   "cell_type": "markdown",
   "id": "9e8b75c8",
   "metadata": {},
   "source": [
    "## Negative image"
   ]
  },
  {
   "cell_type": "code",
   "execution_count": 77,
   "id": "056ada9d",
   "metadata": {},
   "outputs": [],
   "source": [
    "report = open(\"output2.pgm\",\"w\")\n",
    "for i in range(a):\n",
    "    \n",
    "    if(i>=4):\n",
    "        report.write(str(int(max)-int(image_set[i])))\n",
    "        report.write('\\n')\n",
    "    else:\n",
    "        report.write(image_set[i])\n",
    "        report.write(\"\\n\")"
   ]
  }
 ],
 "metadata": {
  "kernelspec": {
   "display_name": "Python 3 (ipykernel)",
   "language": "python",
   "name": "python3"
  },
  "language_info": {
   "codemirror_mode": {
    "name": "ipython",
    "version": 3
   },
   "file_extension": ".py",
   "mimetype": "text/x-python",
   "name": "python",
   "nbconvert_exporter": "python",
   "pygments_lexer": "ipython3",
   "version": "3.10.7"
  }
 },
 "nbformat": 4,
 "nbformat_minor": 5
}
